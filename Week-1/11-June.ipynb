{
 "cells": [
  {
   "cell_type": "code",
   "execution_count": 1,
   "metadata": {},
   "outputs": [
    {
     "name": "stdout",
     "output_type": "stream",
     "text": [
      "<class 'list'>\n",
      "['apple', 'bannana', 'cherry']\n",
      "cherry\n",
      "['apple', 'bannana', 'Mango']\n",
      "['apple', 'bannana', 'apple']\n",
      "3\n"
     ]
    },
    {
     "data": {
      "text/plain": [
       "['apple', 'bannana', 'apple']"
      ]
     },
     "execution_count": 1,
     "metadata": {},
     "output_type": "execute_result"
    }
   ],
   "source": [
    "#Data structures in python \n",
    "#List Tuple Dist Sets\n",
    "\n",
    "#List\n",
    "thislist = [\"apple\", \"bannana\", \"cherry\"]\n",
    "print(type(thislist))\n",
    "print(thislist)\n",
    "print(thislist[2])\n",
    "thislist[2] = \"Mango\"  #allows updation\n",
    "print(thislist)\n",
    "thislist[2] = \"apple\"\n",
    "print(thislist)    #allows duplicable \n",
    "print(len(thislist))  # to calculate the lenght of thislist\n",
    "thislist\n",
    "\n"
   ]
  },
  {
   "cell_type": "code",
   "execution_count": 2,
   "metadata": {},
   "outputs": [
    {
     "name": "stdout",
     "output_type": "stream",
     "text": [
      "[1, 3, 2, 6, 7, 9.0, 8]\n",
      "[1, 3, 2, 6, 7, 9.0]\n",
      "[2, 6, 7]\n",
      "[2, 6, 7, 9.0, 8]\n"
     ]
    }
   ],
   "source": [
    "list1=[1,3,4,6,7,9.0,8]\n",
    "list1[2]= 2\n",
    "print(list1)\n",
    "print(list1[:6])\n",
    "print(list1[2:5])\n",
    "print(list1[2:])"
   ]
  },
  {
   "cell_type": "code",
   "execution_count": 3,
   "metadata": {},
   "outputs": [
    {
     "name": "stdout",
     "output_type": "stream",
     "text": [
      "[1, 3, 4, 6, 7, 9.0, 8, 10]\n",
      "[1, 3, 10, 4, 6, 7, 9.0, 8, 10]\n"
     ]
    }
   ],
   "source": [
    "list1=[1,3,4,6,7,9.0,8]\n",
    "list1.append(10)    #adding an element to the end \n",
    "print(list1)\n",
    "list1.insert(2,10)  #adding at specific index\n",
    "print(list1)"
   ]
  },
  {
   "cell_type": "code",
   "execution_count": 4,
   "metadata": {},
   "outputs": [
    {
     "name": "stdout",
     "output_type": "stream",
     "text": [
      "['apple', 'banana', 'mango', 'cherry', 'orange']\n",
      "['cherry', 'orange']\n"
     ]
    }
   ],
   "source": [
    "list1=[\"apple\" , \"banana\", \"mango\"]\n",
    "list2=[\"cherry\", \"orange\"]\n",
    "list1.extend(list2)\n",
    "print(list1)\n",
    "print(list2)\n"
   ]
  },
  {
   "cell_type": "code",
   "execution_count": 5,
   "metadata": {},
   "outputs": [
    {
     "name": "stdout",
     "output_type": "stream",
     "text": [
      "['apple', 'mango']\n",
      "['apple', 'banana']\n",
      "['banana', 'mango']\n"
     ]
    }
   ],
   "source": [
    "\n",
    "#use of remove\n",
    "list1=[\"apple\" , \"banana\", \"mango\"]\n",
    "list1.remove(\"banana\")\n",
    "print(list1)\n",
    "\n",
    "#use of pop\n",
    "list1=[\"apple\" , \"banana\", \"mango\"]\n",
    "list1.pop(2)  #if no argument provided it pop the last element \n",
    "print(list1)\n",
    "\n",
    "#use of del\n",
    "list1=[\"apple\" , \"banana\", \"mango\"]\n",
    "del list1[0]  \n",
    "print(list1)\n"
   ]
  },
  {
   "cell_type": "code",
   "execution_count": 6,
   "metadata": {},
   "outputs": [
    {
     "name": "stdout",
     "output_type": "stream",
     "text": [
      "3\n",
      "hello\n"
     ]
    }
   ],
   "source": [
    "#TUPLES\n",
    "tuple=(2,\"hello\", 6.5)\n",
    "#tuple[1] = \"hi\" # cannot change values \n",
    "print(len(tuple))\n",
    "print(tuple[1])     "
   ]
  },
  {
   "cell_type": "code",
   "execution_count": 7,
   "metadata": {},
   "outputs": [],
   "source": [
    "x = (\"apple\", \"banana\", \"cherry\")\n",
    "y = list(x)\n",
    "y[1]= \"kiwi\"\n"
   ]
  },
  {
   "cell_type": "code",
   "execution_count": 8,
   "metadata": {},
   "outputs": [
    {
     "name": "stdout",
     "output_type": "stream",
     "text": [
      "{'cherry', 'apple', 'banana'}\n"
     ]
    }
   ],
   "source": [
    "#Sets\n",
    "set1 = {\"apple\", \"banana\", \"cherry\", \"apple\"}\n",
    "print(set1)\n"
   ]
  },
  {
   "cell_type": "code",
   "execution_count": 9,
   "metadata": {},
   "outputs": [
    {
     "name": "stdout",
     "output_type": "stream",
     "text": [
      "Bhavesh\n",
      "{'name': 'Bhavesh', 'college': 'upesddn'}\n",
      "{'name': 'Bhavesh', 'college': 'upesddn', 'age': 20}\n",
      "{'name': 'Bhavesh', 'college': 'upesddn', 'age': 20, 'color': 'red'}\n",
      "{'name': 'Bhavesh', 'age': 20, 'color': 'red'}\n"
     ]
    }
   ],
   "source": [
    "#Dictionary \n",
    "d1= {\"name\":\"Bhavesh\",\"college\": \"upes\"}\n",
    "print(d1[\"name\"])  #displays the value in the d1 \n",
    "d1= {\"name\":\"Bhavesh\",\"college\": \"upes\", \"college\":\"upesddn\"} \n",
    "print(d1)\n",
    "#adding a new key value pair into the dict\n",
    "d1['age']= 20\n",
    "print(d1)\n",
    "#use of update to add new key value pair\n",
    "d1.update({'color':'red'})\n",
    "print(d1)\n",
    "#use of pop function to remove a particular key value pair\n",
    "d1.pop('college')\n",
    "print(d1)"
   ]
  },
  {
   "cell_type": "markdown",
   "metadata": {},
   "source": [
    "End of Data Structures"
   ]
  },
  {
   "cell_type": "code",
   "execution_count": 10,
   "metadata": {},
   "outputs": [
    {
     "name": "stdout",
     "output_type": "stream",
     "text": [
      "Both are equal\n"
     ]
    }
   ],
   "source": [
    "#If Conditions - with elif\n",
    "a = 55\n",
    "b = 55\n",
    "if(b>a):\n",
    "    print(b)\n",
    "elif(b==a):\n",
    "    print(\"Both are equal\")\n",
    "else:\n",
    "    print(a)"
   ]
  },
  {
   "cell_type": "code",
   "execution_count": 14,
   "metadata": {},
   "outputs": [
    {
     "name": "stdout",
     "output_type": "stream",
     "text": [
      "1\n",
      "2\n",
      "3\n"
     ]
    }
   ],
   "source": [
    "#Looping \n",
    "i = 1\n",
    "while i<6:\n",
    "    print(i)\n",
    "    if i == 3:\n",
    "        break\n",
    "    i =i+1\n"
   ]
  },
  {
   "cell_type": "code",
   "execution_count": 15,
   "metadata": {},
   "outputs": [
    {
     "name": "stdout",
     "output_type": "stream",
     "text": [
      "1\n",
      "2\n",
      "4\n",
      "5\n",
      "6\n"
     ]
    }
   ],
   "source": [
    "i = 0\n",
    "while i<6:\n",
    "    i =i+1\n",
    "    if i == 3:\n",
    "        continue   #skipping the current iteration \n",
    "    print(i)\n"
   ]
  },
  {
   "cell_type": "code",
   "execution_count": 18,
   "metadata": {},
   "outputs": [
    {
     "name": "stdout",
     "output_type": "stream",
     "text": [
      "1\n",
      "2\n",
      "3\n",
      "4\n",
      "5\n",
      "i is no longer less than 6\n"
     ]
    }
   ],
   "source": [
    "i = 1\n",
    "while i<6:\n",
    "    print(i)\n",
    "    i =i+1\n",
    "else:\n",
    "    print(\"i is no longer less than 6\")"
   ]
  },
  {
   "cell_type": "code",
   "execution_count": 19,
   "metadata": {},
   "outputs": [
    {
     "name": "stdout",
     "output_type": "stream",
     "text": [
      "apple\n",
      "banana\n",
      "cherry\n"
     ]
    }
   ],
   "source": [
    "#for loop \n",
    "fruits= [\"apple\" , 'banana', 'cherry']\n",
    "for x in fruits:\n",
    "    print(x)"
   ]
  },
  {
   "cell_type": "code",
   "execution_count": 21,
   "metadata": {},
   "outputs": [
    {
     "name": "stdout",
     "output_type": "stream",
     "text": [
      "h\n",
      "e\n",
      "l\n",
      "l\n",
      "o\n"
     ]
    }
   ],
   "source": [
    "str1='hello'\n",
    "for x in str1:\n",
    "    print(x)"
   ]
  },
  {
   "cell_type": "code",
   "execution_count": 22,
   "metadata": {},
   "outputs": [
    {
     "name": "stdout",
     "output_type": "stream",
     "text": [
      "apple\n",
      "banana\n"
     ]
    }
   ],
   "source": [
    "fruits= [\"apple\" , 'banana', 'cherry']\n",
    "for x in fruits:\n",
    "    print(x)\n",
    "    if x =='banana':\n",
    "        break"
   ]
  },
  {
   "cell_type": "code",
   "execution_count": 23,
   "metadata": {},
   "outputs": [
    {
     "name": "stdout",
     "output_type": "stream",
     "text": [
      "apple\n",
      "cherry\n"
     ]
    }
   ],
   "source": [
    "fruits= [\"apple\" , 'banana', 'cherry']\n",
    "for x in fruits:\n",
    "    if x =='banana':\n",
    "        continue\n",
    "    print(x)"
   ]
  },
  {
   "cell_type": "code",
   "execution_count": 26,
   "metadata": {},
   "outputs": [
    {
     "name": "stdout",
     "output_type": "stream",
     "text": [
      "1\n",
      "4\n"
     ]
    }
   ],
   "source": [
    "#use of range\n",
    "for x in range(1,6,3):\n",
    "    print(x)"
   ]
  },
  {
   "cell_type": "code",
   "execution_count": 27,
   "metadata": {},
   "outputs": [
    {
     "name": "stdout",
     "output_type": "stream",
     "text": [
      "0\n",
      "1\n",
      "2\n",
      "3\n",
      "4\n",
      "5\n",
      "finally\n"
     ]
    }
   ],
   "source": [
    "for x in range(6):\n",
    "    print(x)\n",
    "else:\n",
    "    print(\"finally\")"
   ]
  },
  {
   "cell_type": "code",
   "execution_count": 28,
   "metadata": {},
   "outputs": [
    {
     "name": "stdout",
     "output_type": "stream",
     "text": [
      "hello\n"
     ]
    }
   ],
   "source": [
    "def myfun():\n",
    "    print(\"hello\")\n",
    "myfun()"
   ]
  },
  {
   "cell_type": "code",
   "execution_count": 32,
   "metadata": {},
   "outputs": [
    {
     "name": "stdout",
     "output_type": "stream",
     "text": [
      "Hello bhavesh Kapur\n"
     ]
    }
   ],
   "source": [
    "def fun1(fname, lname):\n",
    "    print(\"Hello \" + fname +\" \"+ lname)\n",
    "\n",
    "fun1(\"bhavesh\", \"Kapur\")"
   ]
  },
  {
   "cell_type": "code",
   "execution_count": 37,
   "metadata": {},
   "outputs": [
    {
     "name": "stdout",
     "output_type": "stream",
     "text": [
      "15\n",
      "6\n",
      "9\n"
     ]
    }
   ],
   "source": [
    "#lambda functions\n",
    "\n",
    "x = lambda a:a+10\n",
    "print(x(5))\n",
    "\n",
    "x = lambda a,b: a*b\n",
    "print(x(2,3))\n",
    "x = lambda a,b,c: a+b+c\n",
    "print(x(2,3,4))"
   ]
  },
  {
   "cell_type": "code",
   "execution_count": null,
   "metadata": {},
   "outputs": [],
   "source": [
    "#Q1\n",
    "\n"
   ]
  }
 ],
 "metadata": {
  "kernelspec": {
   "display_name": "Python 3",
   "language": "python",
   "name": "python3"
  },
  "language_info": {
   "codemirror_mode": {
    "name": "ipython",
    "version": 3
   },
   "file_extension": ".py",
   "mimetype": "text/x-python",
   "name": "python",
   "nbconvert_exporter": "python",
   "pygments_lexer": "ipython3",
   "version": "3.11.5"
  }
 },
 "nbformat": 4,
 "nbformat_minor": 2
}
